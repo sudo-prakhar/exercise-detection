{
 "cells": [
  {
   "cell_type": "code",
   "execution_count": 1,
   "metadata": {},
   "outputs": [],
   "source": [
    "import os\n",
    "import cv2"
   ]
  },
  {
   "cell_type": "code",
   "execution_count": 2,
   "metadata": {},
   "outputs": [],
   "source": [
    "RAW_VIDEO = 'Data/Raw/Videos'\n",
    "RAW_IMAGES = 'Data/Raw/Images'"
   ]
  },
  {
   "attachments": {},
   "cell_type": "markdown",
   "metadata": {},
   "source": [
    "# VIDEO TO IMAGES"
   ]
  },
  {
   "cell_type": "code",
   "execution_count": 7,
   "metadata": {},
   "outputs": [],
   "source": [
    "def convertVideoToImages(video_name, class_label, video_idx, step=10, output_path=RAW_IMAGES):\n",
    "    print(\"Converting \", video_name, \" Class: \", class_label)\n",
    "    # Get output path and make output image folder\n",
    "    output_folder = os.path.join(output_path, class_label)\n",
    "    if not os.path.exists(output_folder):\n",
    "        os.mkdir(output_folder)\n",
    "    \n",
    "    frame_count = 0\n",
    "    name_count = 0\n",
    "\n",
    "    # Convert video to images\n",
    "    vidcap = cv2.VideoCapture(video_name)\n",
    "    success,image = vidcap.read()\n",
    "    while success:\n",
    "        if frame_count % step == 0:\n",
    "            name_count += 1\n",
    "            img_name = 'image{}_{}.jpg'.format(video_idx, name_count)\n",
    "            img_path = os.path.join(output_folder, img_name)\n",
    "            image = cv2.rotate(image, cv2.ROTATE_180)\n",
    "            cv2.imwrite(img_path, image)\n",
    "        \n",
    "        success,image = vidcap.read()\n",
    "        frame_count += 1\n",
    "    \n",
    "    print(\"Saved {} images to folder {}\\n\".format(name_count, class_label))"
   ]
  },
  {
   "cell_type": "code",
   "execution_count": 8,
   "metadata": {},
   "outputs": [
    {
     "name": "stdout",
     "output_type": "stream",
     "text": [
      "Converting  Data/Raw/Videos/push_down/IMG_5649.MOV  Class:  push_down\n",
      "Saved 211 images to folder push_down\n",
      "\n",
      "Converting  Data/Raw/Videos/push_down/push_down.mov  Class:  push_down\n",
      "Saved 66 images to folder push_down\n",
      "\n",
      "Converting  Data/Raw/Videos/push_down/IMG_5652.MOV  Class:  push_down\n",
      "Saved 365 images to folder push_down\n",
      "\n",
      "Converting  Data/Raw/Videos/push_down/IMG_5650.MOV  Class:  push_down\n",
      "Saved 192 images to folder push_down\n",
      "\n",
      "Converting  Data/Raw/Videos/push_down/IMG_5651.MOV  Class:  push_down\n",
      "Saved 186 images to folder push_down\n",
      "\n",
      "Converting  Data/Raw/Videos/squat_down/IMG_5646.MOV  Class:  squat_down\n",
      "Saved 358 images to folder squat_down\n",
      "\n",
      "Converting  Data/Raw/Videos/squat_down/IMG_5644.MOV  Class:  squat_down\n",
      "Saved 202 images to folder squat_down\n",
      "\n",
      "Converting  Data/Raw/Videos/squat_down/IMG_5645.MOV  Class:  squat_down\n",
      "Saved 522 images to folder squat_down\n",
      "\n",
      "Converting  Data/Raw/Videos/push_up/IMG_5647.MOV  Class:  push_up\n",
      "Saved 721 images to folder push_up\n",
      "\n",
      "Converting  Data/Raw/Videos/rest/IMG_5643.MOV  Class:  rest\n",
      "Saved 1084 images to folder rest\n",
      "\n"
     ]
    }
   ],
   "source": [
    "class_labels = os.listdir(RAW_VIDEO)\n",
    "\n",
    "for class_label in class_labels:\n",
    "    if not class_label == '.DS_Store':\n",
    "        video_path = os.path.join(RAW_VIDEO, class_label)\n",
    "        videos = os.listdir(video_path)\n",
    "        for idx, video_name in enumerate(videos):\n",
    "            if not video_name == '.DS_Store':\n",
    "                convertVideoToImages(os.path.join(video_path, video_name), class_label, idx, step=5)"
   ]
  },
  {
   "attachments": {},
   "cell_type": "markdown",
   "metadata": {},
   "source": [
    "# IMAGES TO POSE DATA"
   ]
  },
  {
   "cell_type": "code",
   "execution_count": 11,
   "metadata": {},
   "outputs": [],
   "source": [
    "RAW_IMAGES = 'Data/Raw/Images'\n",
    "PROCESSED_IMAGES = 'Data/Processed/Images'\n",
    "CSV_OUTPUT = 'Data/Processed/training_output_csv.csv'"
   ]
  },
  {
   "cell_type": "code",
   "execution_count": 13,
   "metadata": {},
   "outputs": [
    {
     "name": "stderr",
     "output_type": "stream",
     "text": [
      "Bootstrapping  push_down\n",
      "100%|██████████| 1020/1020 [02:18<00:00,  7.37it/s]\n",
      "Bootstrapping  push_up\n",
      "100%|██████████| 721/721 [01:40<00:00,  7.15it/s]\n"
     ]
    }
   ],
   "source": [
    "import csv\n",
    "import cv2\n",
    "import numpy as np\n",
    "import os\n",
    "import sys\n",
    "import tqdm\n",
    "\n",
    "from mediapipe.python.solutions import drawing_utils as mp_drawing\n",
    "from mediapipe.python.solutions import pose as mp_pose\n",
    "\n",
    "\n",
    "with open(CSV_OUTPUT, 'w') as csv_out_file:\n",
    "  csv_out_writer = csv.writer(csv_out_file, delimiter=',', quoting=csv.QUOTE_MINIMAL)\n",
    "\n",
    "  # Folder names are used as pose class names.\n",
    "  pose_class_names = sorted([n for n in os.listdir(RAW_IMAGES) if not n.startswith('.')])\n",
    "\n",
    "  for pose_class_name in pose_class_names:\n",
    "    print('Bootstrapping ', pose_class_name, file=sys.stderr)\n",
    "\n",
    "    if not os.path.exists(os.path.join(PROCESSED_IMAGES, pose_class_name)):\n",
    "      os.makedirs(os.path.join(PROCESSED_IMAGES, pose_class_name))\n",
    "\n",
    "    image_names = sorted([\n",
    "        n for n in os.listdir(os.path.join(RAW_IMAGES, pose_class_name))\n",
    "        if not n.startswith('.')])\n",
    "\n",
    "    for image_name in tqdm.tqdm(image_names, position=0):\n",
    "      # Load image.\n",
    "      input_frame = cv2.imread(os.path.join(RAW_IMAGES, pose_class_name, image_name))\n",
    "      input_frame = cv2.cvtColor(input_frame, cv2.COLOR_BGR2RGB)\n",
    "\n",
    "      # Initialize fresh pose tracker and run it.\n",
    "      with mp_pose.Pose() as pose_tracker:\n",
    "        result = pose_tracker.process(image=input_frame)\n",
    "        pose_landmarks = result.pose_landmarks\n",
    "      \n",
    "      # Save image with pose prediction (if pose was detected).\n",
    "      output_frame = input_frame.copy()\n",
    "      if pose_landmarks is not None:\n",
    "        \n",
    "        mp_drawing.draw_landmarks(\n",
    "            image=output_frame,\n",
    "            landmark_list=pose_landmarks,\n",
    "            connections=mp_pose.POSE_CONNECTIONS)\n",
    "\n",
    "      output_frame = cv2.cvtColor(output_frame, cv2.COLOR_RGB2BGR)\n",
    "      cv2.imwrite(os.path.join(PROCESSED_IMAGES, pose_class_name, image_name), output_frame)\n",
    "      \n",
    "      # Save landmarks.\n",
    "      if pose_landmarks is not None:\n",
    "        # Check the number of landmarks and take pose landmarks.\n",
    "        assert len(pose_landmarks.landmark) == 33, 'Unexpected number of predicted pose landmarks: {}'.format(len(pose_landmarks.landmark))\n",
    "        pose_landmarks = [[lmk.x, lmk.y, lmk.z] for lmk in pose_landmarks.landmark]\n",
    "\n",
    "        # Map pose landmarks from [0, 1] range to absolute coordinates to get\n",
    "        # correct aspect ratio.\n",
    "        frame_height, frame_width = output_frame.shape[:2]\n",
    "        pose_landmarks *= np.array([frame_width, frame_height, frame_width])\n",
    "\n",
    "        # Write pose sample to CSV.\n",
    "        pose_landmarks = np.around(pose_landmarks, 5).flatten().astype('str').tolist()\n",
    "        csv_out_writer.writerow([image_name, pose_class_name] + pose_landmarks)\n"
   ]
  },
  {
   "cell_type": "code",
   "execution_count": null,
   "metadata": {},
   "outputs": [],
   "source": []
  }
 ],
 "metadata": {
  "kernelspec": {
   "display_name": "ML",
   "language": "python",
   "name": "python3"
  },
  "language_info": {
   "codemirror_mode": {
    "name": "ipython",
    "version": 3
   },
   "file_extension": ".py",
   "mimetype": "text/x-python",
   "name": "python",
   "nbconvert_exporter": "python",
   "pygments_lexer": "ipython3",
   "version": "3.10.6"
  },
  "orig_nbformat": 4,
  "vscode": {
   "interpreter": {
    "hash": "08433e0cffb6b31896868c9fb611d1bed4e943d8fd5463e533a0eb267f0d0c65"
   }
  }
 },
 "nbformat": 4,
 "nbformat_minor": 2
}
